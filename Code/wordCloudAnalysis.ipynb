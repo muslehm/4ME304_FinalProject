{
 "cells": [
  {
   "cell_type": "code",
   "execution_count": 18,
   "metadata": {},
   "outputs": [],
   "source": [
    "from __future__ import print_function\n",
    "from pyspark.sql.functions import count, countDistinct\n",
    "from pyspark.sql.functions import col\n",
    "from pyspark.sql.functions import explode, expr\n",
    "from pyspark.sql.functions import split\n",
    "from pyspark.sql.functions import udf\n",
    "from pyspark.sql import SparkSession\n",
    "import pandas as pd\n",
    "from pyspark.ml.linalg import Vectors\n",
    "from pyspark.ml.feature import VectorAssembler\n",
    "from pyspark.ml.clustering import KMeans\n",
    "from pyspark.ml.evaluation import ClusteringEvaluator\n",
    "from pyspark import SparkContext\n",
    "from pyspark.sql import SQLContext\n",
    "import os\n",
    "\n",
    "spark = SparkSession.builder.getOrCreate()\n",
    "\n"
   ]
  },
  {
   "cell_type": "code",
   "execution_count": 2,
   "metadata": {},
   "outputs": [],
   "source": [
    "#Load tweets as Dataframe to Spark\n",
    "tweetsDF = spark.read.json(\"file:///Users/Laith/Downloads/features_tweets.json\")"
   ]
  },
  {
   "cell_type": "code",
   "execution_count": 3,
   "metadata": {},
   "outputs": [
    {
     "name": "stdout",
     "output_type": "stream",
     "text": [
      "root\n",
      " |-- filtered: array (nullable = true)\n",
      " |    |-- element: string (containsNull = true)\n",
      " |-- followers_count: long (nullable = true)\n",
      " |-- friends_count: long (nullable = true)\n",
      " |-- location: string (nullable = true)\n",
      " |-- reply_to: long (nullable = true)\n",
      " |-- userId: long (nullable = true)\n",
      "\n"
     ]
    }
   ],
   "source": [
    "tweetsDF.printSchema()"
   ]
  },
  {
   "cell_type": "code",
   "execution_count": 4,
   "metadata": {},
   "outputs": [],
   "source": [
    "from pyspark.ml.feature import Word2Vec"
   ]
  },
  {
   "cell_type": "code",
   "execution_count": 9,
   "metadata": {},
   "outputs": [
    {
     "name": "stdout",
     "output_type": "stream",
     "text": [
      "+-------------------+-----------------------------------------------------------------------------------------------------------+\n",
      "|userId             |features                                                                                                   |\n",
      "+-------------------+-----------------------------------------------------------------------------------------------------------+\n",
      "|351883595          |[-0.03009021282196045,0.06259085237979889,-0.013886237516999245,0.009944629855453968,-0.0935233011841774]  |\n",
      "|744537718043086849 |[-0.0074743957569201784,-0.24438818792502084,-0.05768536062290271,0.12713951617479324,0.15674133703578264] |\n",
      "|112500296          |[0.2038060774405797,-0.6891342749198277,-0.3379166626061002,0.37206344678997993,0.38107080198824406]       |\n",
      "|1185604978964127756|[-0.08905501441600232,-0.07964820357469413,0.05289482769484704,-0.05341297388076782,-0.0340033447674404]   |\n",
      "|57025876           |[-0.18352871189514797,0.07425685014265279,0.3889609184116125,0.060544245565931,-0.49723608617981274]       |\n",
      "|106469050          |[-0.041897485405206686,-0.05563696809113026,0.01155196176841855,0.05194509476423264,-0.024862566590309144] |\n",
      "|3511592775         |[0.00257280427747621,-0.1643514197606307,0.029467414921292893,0.07536315645735998,0.04787351162387775]     |\n",
      "|773870985229590530 |[-0.022215251452647723,-0.05627793367378987,0.02128309520104757,-0.053323156057068936,-0.07644045668152663]|\n",
      "|40071024           |[-0.17674700702939714,-0.22148333702768597,0.11243767124999846,0.06501468537109238,-0.16587933897972107]   |\n",
      "|274021172          |[-0.13540925512857296,-0.0599290831014514,0.19238999705104268,0.10607672893606565,-0.025969261358327726]   |\n",
      "|363867255          |[-0.08907620024401694,-0.17847806277374426,-0.0021598113079865774,0.019107376287380854,0.0879184247382606] |\n",
      "|2702818325         |[-0.11793104248742262,-0.29302198025915355,-0.03278137184679508,0.17890855504406822,0.014609441988997988]  |\n",
      "|19535313           |[0.5749395117163658,-0.3650046207688072,-0.09999539144337177,0.470309788022529,0.14348191700198434]        |\n",
      "|585658692          |[-0.022215251452647723,-0.05627793367378987,0.02128309520104757,-0.053323156057068936,-0.07644045668152663]|\n",
      "|2542945434         |[-0.1431459185800382,-0.12691669432180266,0.12369544305173413,0.023214652868253843,-0.04126372268157346]   |\n",
      "|1448731784         |[0.2038060774405797,-0.6891342749198277,-0.3379166626061002,0.37206344678997993,0.38107080198824406]       |\n",
      "|2197417861         |[-0.17503708992153405,-0.10079334080219268,0.2838120972116788,-0.060501481468478835,-0.03811921541734288]  |\n",
      "|752687748239200256 |[-0.09532049298286438,-0.04220702685415745,0.05704699642956257,-0.05103925964795053,-0.00997864082455635]  |\n",
      "|880568786654568448 |[-0.16101548888466574,-0.07700538584454493,0.13577453419566154,0.017232348634438083,-0.06404659647325223]  |\n",
      "|835592406          |[-0.1031722658808576,-0.08727698470465839,0.1877171155065298,0.042886282317340374,-0.10669100878294557]    |\n",
      "+-------------------+-----------------------------------------------------------------------------------------------------------+\n",
      "only showing top 20 rows\n",
      "\n"
     ]
    }
   ],
   "source": [
    "word2Vec = Word2Vec(vectorSize=5, minCount=0, inputCol=\"filtered\", outputCol=\"features\")\n",
    "model = word2Vec.fit(tweetsDF)\n",
    "\n",
    "result = model.transform(tweetsDF)\n",
    "result.select(\"userId\", \"features\").show(20)\n",
    "#for row in result.collect():\n",
    " #   text, vector = row\n",
    "  #  print(\"Text: [%s] => \\nVector: %s\\n\" % (\", \".join(text), str(vector)))"
   ]
  },
  {
   "cell_type": "code",
   "execution_count": 16,
   "metadata": {},
   "outputs": [
    {
     "name": "stdout",
     "output_type": "stream",
     "text": [
      "root\n",
      " |-- filtered: array (nullable = true)\n",
      " |    |-- element: string (containsNull = true)\n",
      " |-- followers_count: long (nullable = true)\n",
      " |-- friends_count: long (nullable = true)\n",
      " |-- location: string (nullable = true)\n",
      " |-- reply_to: long (nullable = true)\n",
      " |-- userId: long (nullable = true)\n",
      " |-- features: vector (nullable = true)\n",
      "\n"
     ]
    }
   ],
   "source": [
    "trainingData, testData = result.randomSplit([0.7, 0.3])"
   ]
  },
  {
   "cell_type": "code",
   "execution_count": 19,
   "metadata": {},
   "outputs": [],
   "source": [
    "#Visualize tweeps based on followers and friends count, and Location/UserId\n",
    "# Trains a k-means model.\n",
    "k = 20\n",
    "kmeans = KMeans().setK(k).setSeed(1)\n",
    "\n",
    "model = kmeans.fit(trainingData.cache())"
   ]
  },
  {
   "cell_type": "code",
   "execution_count": 29,
   "metadata": {},
   "outputs": [],
   "source": [
    "cerror = model.computeCost(trainingData.cache())"
   ]
  },
  {
   "cell_type": "code",
   "execution_count": 30,
   "metadata": {},
   "outputs": [
    {
     "data": {
      "text/plain": [
       "131.2054841304752"
      ]
     },
     "execution_count": 30,
     "metadata": {},
     "output_type": "execute_result"
    }
   ],
   "source": [
    "cerror"
   ]
  },
  {
   "cell_type": "code",
   "execution_count": 31,
   "metadata": {},
   "outputs": [
    {
     "name": "stdout",
     "output_type": "stream",
     "text": [
      "[-0.07150275 -0.17194918  0.04659408  0.05770173 -0.00396389]\n",
      "[0.00559446 0.77511828 1.38770373 1.20914758 0.09485598]\n",
      "[-0.04245581 -0.22914754 -0.07511988  0.08067213  0.12272565]\n",
      "[ 1.60483269  0.27585686  0.67852375 -0.99484299 -0.1510577 ]\n",
      "[ 0.25763614 -0.54231242 -0.40360131  0.98155428 -0.14858594]\n",
      "[-0.09830807 -0.0661948   0.01673579 -0.02976313 -0.0135028 ]\n",
      "[ 0.10707676  0.17490742  0.57197941 -0.11332628 -0.5557917 ]\n",
      "[-0.17061013  0.03550776  0.28362998 -0.07652544 -0.58674303]\n",
      "[ 0.20589342 -0.68116779 -0.33991836  0.37013597  0.37473367]\n",
      "[-0.1231133   0.04425379  0.61154179  0.25686867 -0.22792611]\n",
      "[ 1.17929411 -0.38807388  1.05750075 -0.21984535  0.45583078]\n",
      "[-0.42193859  0.26182228  0.02756653  0.29015718 -0.39753369]\n",
      "[-0.16014238 -0.07813271  0.14791121  0.0197737  -0.13889105]\n",
      "[ 0.05955398 -0.3565019  -0.13853317  0.38813906 -0.09313745]\n",
      "[ 0.07652997 -0.0716283   0.23370191 -0.14173356 -0.09366686]\n",
      "[ 0.57687105 -0.36235036 -0.05804192  0.43765619  0.04512348]\n",
      "[-0.23319692 -0.35851567  0.27722984  0.07206619  0.28834332]\n",
      "[-0.46820911 -0.30411562  0.29239158  0.37118319 -0.56359652]\n",
      "[-0.35015797 -0.06650623  0.54394798  0.12899076 -0.38436514]\n",
      "[ 0.78728781 -0.64599153 -0.22937995  0.88157432 -0.27039615]\n"
     ]
    }
   ],
   "source": [
    "centers = model.clusterCenters()\n",
    "for center in centers:\n",
    "    print(center)"
   ]
  },
  {
   "cell_type": "code",
   "execution_count": 32,
   "metadata": {},
   "outputs": [
    {
     "name": "stdout",
     "output_type": "stream",
     "text": [
      "+----------+-----+\n",
      "|prediction|count|\n",
      "+----------+-----+\n",
      "|         0|  479|\n",
      "|         5|  382|\n",
      "|        12|  349|\n",
      "|         2|  274|\n",
      "|        14|  101|\n",
      "|         3|   51|\n",
      "|         9|   49|\n",
      "|        13|   38|\n",
      "|         7|   31|\n",
      "|        16|   29|\n",
      "|        10|   29|\n",
      "|         8|   23|\n",
      "|         4|   23|\n",
      "|         1|   22|\n",
      "|        18|   22|\n",
      "|         6|   18|\n",
      "|        15|   18|\n",
      "|        19|   17|\n",
      "|        11|   10|\n",
      "|        17|    7|\n",
      "+----------+-----+\n",
      "\n"
     ]
    }
   ],
   "source": [
    "predictions = model.transform(testData.cache())\n",
    "predictions.groupBy(\"prediction\").count().sort(col(\"count\").desc()).show()\n",
    "\n"
   ]
  },
  {
   "cell_type": "code",
   "execution_count": 34,
   "metadata": {},
   "outputs": [],
   "source": [
    "from wordcloud import WordCloud, STOPWORDS \n",
    "import matplotlib.pyplot as plt \n",
    "import pandas as pd "
   ]
  },
  {
   "cell_type": "code",
   "execution_count": 36,
   "metadata": {},
   "outputs": [
    {
     "name": "stdout",
     "output_type": "stream",
     "text": [
      "root\n",
      " |-- filtered: array (nullable = true)\n",
      " |    |-- element: string (containsNull = true)\n",
      " |-- followers_count: long (nullable = true)\n",
      " |-- friends_count: long (nullable = true)\n",
      " |-- location: string (nullable = true)\n",
      " |-- reply_to: long (nullable = true)\n",
      " |-- userId: long (nullable = true)\n",
      " |-- features: vector (nullable = true)\n",
      " |-- prediction: integer (nullable = false)\n",
      "\n"
     ]
    }
   ],
   "source": [
    "df = predictions.select(\"*\").where(\"prediction == 0 OR prediction == 5 OR prediction == 12 OR prediction == 2\")\n",
    "df.printSchema()"
   ]
  },
  {
   "cell_type": "code",
   "execution_count": 59,
   "metadata": {},
   "outputs": [],
   "source": [
    "df.coalesce(1).write.json(\"file:///Users/Laith/Downloads/wordcloud.json\")"
   ]
  },
  {
   "cell_type": "code",
   "execution_count": 55,
   "metadata": {},
   "outputs": [],
   "source": [
    "from pyspark.ml.feature import HashingTF, IDF\n",
    "hashingTF = HashingTF(inputCol=\"filtered\", outputCol=\"rawFeatures\", numFeatures=20)\n",
    "featurizedData = hashingTF.transform(df)\n",
    "  \n",
    "\n"
   ]
  },
  {
   "cell_type": "code",
   "execution_count": 56,
   "metadata": {},
   "outputs": [
    {
     "name": "stdout",
     "output_type": "stream",
     "text": [
      "root\n",
      " |-- filtered: array (nullable = true)\n",
      " |    |-- element: string (containsNull = true)\n",
      " |-- followers_count: long (nullable = true)\n",
      " |-- friends_count: long (nullable = true)\n",
      " |-- location: string (nullable = true)\n",
      " |-- reply_to: long (nullable = true)\n",
      " |-- userId: long (nullable = true)\n",
      " |-- features: vector (nullable = true)\n",
      " |-- prediction: integer (nullable = false)\n",
      " |-- rawFeatures: vector (nullable = true)\n",
      "\n"
     ]
    }
   ],
   "source": [
    "\n",
    "featurizedData.printSchema()"
   ]
  },
  {
   "cell_type": "code",
   "execution_count": 57,
   "metadata": {},
   "outputs": [
    {
     "name": "stdout",
     "output_type": "stream",
     "text": [
      "+--------------------------------------------------------------------------------------+\n",
      "|rawFeatures                                                                           |\n",
      "+--------------------------------------------------------------------------------------+\n",
      "|(20,[],[])                                                                            |\n",
      "|(20,[],[])                                                                            |\n",
      "|(20,[],[])                                                                            |\n",
      "|(20,[],[])                                                                            |\n",
      "|(20,[],[])                                                                            |\n",
      "|(20,[3,4,10,12,15,16,18,19],[3.0,1.0,2.0,1.0,3.0,1.0,2.0,2.0])                        |\n",
      "|(20,[2,6,7,8,13,14,15,16,17,18,19],[2.0,1.0,2.0,1.0,2.0,1.0,2.0,1.0,2.0,2.0,1.0])     |\n",
      "|(20,[4,11,12,13,14,18,19],[1.0,1.0,2.0,1.0,1.0,3.0,2.0])                              |\n",
      "|(20,[4,5,6,19],[2.0,1.0,1.0,1.0])                                                     |\n",
      "|(20,[1,2,11,16,17,19],[1.0,1.0,1.0,1.0,1.0,1.0])                                      |\n",
      "|(20,[2,3,5,8,13,15,16,17,18,19],[1.0,1.0,1.0,1.0,1.0,3.0,1.0,1.0,1.0,1.0])            |\n",
      "|(20,[3,12,16,18],[1.0,1.0,1.0,1.0])                                                   |\n",
      "|(20,[3,6,9,15,18,19],[1.0,2.0,1.0,3.0,4.0,1.0])                                       |\n",
      "|(20,[1,3],[1.0,2.0])                                                                  |\n",
      "|(20,[0,1,2,6,8,15,17,18,19],[1.0,2.0,1.0,3.0,1.0,1.0,1.0,1.0,2.0])                    |\n",
      "|(20,[10,11,14,16],[1.0,1.0,1.0,1.0])                                                  |\n",
      "|(20,[0,1,7,8,10,11,12],[1.0,1.0,2.0,1.0,1.0,1.0,1.0])                                 |\n",
      "|(20,[0,3,4,6,7,8,11,12,13,17,18,19],[1.0,1.0,1.0,1.0,2.0,1.0,1.0,1.0,1.0,1.0,1.0,1.0])|\n",
      "|(20,[0,7,10,12],[1.0,2.0,1.0,1.0])                                                    |\n",
      "|(20,[3,5,11,14,16,18],[1.0,1.0,1.0,1.0,1.0,1.0])                                      |\n",
      "+--------------------------------------------------------------------------------------+\n",
      "only showing top 20 rows\n",
      "\n"
     ]
    }
   ],
   "source": [
    "featurizedData.select(\"rawFeatures\").show(20, False)"
   ]
  },
  {
   "cell_type": "code",
   "execution_count": null,
   "metadata": {},
   "outputs": [],
   "source": []
  },
  {
   "cell_type": "code",
   "execution_count": null,
   "metadata": {},
   "outputs": [],
   "source": []
  }
 ],
 "metadata": {
  "kernelspec": {
   "display_name": "Python 3",
   "language": "python",
   "name": "python3"
  },
  "language_info": {
   "codemirror_mode": {
    "name": "ipython",
    "version": 3
   },
   "file_extension": ".py",
   "mimetype": "text/x-python",
   "name": "python",
   "nbconvert_exporter": "python",
   "pygments_lexer": "ipython3",
   "version": "3.7.2"
  }
 },
 "nbformat": 4,
 "nbformat_minor": 2
}

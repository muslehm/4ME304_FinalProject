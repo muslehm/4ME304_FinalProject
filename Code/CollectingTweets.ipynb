{
 "cells": [
  {
   "cell_type": "markdown",
   "metadata": {},
   "source": [
    "# Collecting Tweets Using PySpark"
   ]
  },
  {
   "cell_type": "code",
   "execution_count": 9,
   "metadata": {},
   "outputs": [],
   "source": [
    "from tweepy.streaming import StreamListener\n",
    "from tweepy import OAuthHandler\n",
    "from tweepy import Stream\n",
    "import json\n",
    "import os, sys"
   ]
  },
  {
   "cell_type": "markdown",
   "metadata": {},
   "source": [
    "# Global variables"
   ]
  },
  {
   "cell_type": "code",
   "execution_count": 18,
   "metadata": {},
   "outputs": [],
   "source": [
    "#Variables that contains the user credentials to access Twitter API \n",
    "access_token = \"1161725350860218369-QZ0c8S076oSHdtQgFZkzLFDaZFLaE1\"\n",
    "access_token_secret = \"ME4TWa09MzweOMybbc9DiT6GtqVcmLCaqpqV4ZosGCwgu\"\n",
    "consumer_key = \"PyXXTnN3KlAfjW59dj0iVI4QD\"\n",
    "consumer_secret = \"JGzECoUCZeQhDo4hbDmoEtUtsCgc93iRjyO36XZZMaynYZYfK2\"\n",
    "\n",
    "#file name where the tweets will be collected. \n",
    "fileName = \"tweetdata.json\"\n",
    "file = open(fileName,\"a+\") # we open file once with parameter \"a+\" that means apppend mode, when the file is exist instead of re-writing it, it will add new records to the end of file\n",
    "counter =0 #additional variable to count how much tweets alredy collected\n",
    "numTweets = 30000 #Number of tweets to collect"
   ]
  },
  {
   "cell_type": "markdown",
   "metadata": {},
   "source": [
    "# Listen A Stream of Tweets"
   ]
  },
  {
   "cell_type": "code",
   "execution_count": 12,
   "metadata": {},
   "outputs": [],
   "source": [
    "class StdOutListener(StreamListener):\n",
    "    #event function when some data is streamed from Twitter\n",
    "    def on_data(self,data):\n",
    "        try:\n",
    "            tweet = json.loads(data)\n",
    "            text = tweet[\"text\"]\n",
    "            language_t =tweet[\"lang\"]\n",
    "            tweetdate = tweet[\"created_at\"]\n",
    "            coordinates = tweet[\"coordinates\"]\n",
    "            hashtags = tweet[\"entities\"][\"hashtags\"]\n",
    "            place = tweet[\"place\"]\n",
    "            timestamp = tweet[\"timestamp_ms\"]\n",
    "            \n",
    "            reply_count = tweet[\"quoted_status_id\"]\n",
    "            retweet_count = tweet[\"retweet_count\"]\n",
    "            favorite_count = tweet[\"favorite_count\"]\n",
    "            \n",
    "            original_tweet = tweet[\"in_reply_to_status_id\"]\n",
    "            influencer = tweet[\"in_reply_to_user_id\"]\n",
    "            is_quote_status = tweet[\"is_quote_status\"]\n",
    "            quoted_status_id = tweet[\"quoted_status_id\"]\n",
    "            \n",
    "            user_id = tweet[\"user\"][\"id\"]\n",
    "            user_name=tweet[\"user\"][\"screen_name\"]\n",
    "            user_descr=tweet[\"user\"][\"description\"]\n",
    "            date = tweet[\"user\"][\"created_at\"]\n",
    "            location= tweet[\"user\"][\"location\"]\n",
    "            is_verified = tweet[\"user\"][\"verified\"]\n",
    "            followers_count=tweet[\"user\"][\"followers_count\"]\n",
    "            friends_count=tweet[\"user\"][\"friends_count\"]\n",
    "                \n",
    "        \n",
    "            #create tweet jwon object\n",
    "            jsonObject = getJson(text, language_t, tweetdate, coordinates, hashtags, place, timestamp, user_id, user_name, user_descr, date, location, is_verified, followers_count, friends_count, reply_count, retweet_count, favorite_count, original_tweet, influencer, is_quote_status, quoted_status_id)\n",
    "            #save to file\n",
    "            saveToFile(jsonObject)\n",
    "        except:\n",
    "            text = \"NONE\"\n",
    "        return True \n",
    "    def on_error(self,status):\n",
    "            print(status)"
   ]
  },
  {
   "cell_type": "markdown",
   "metadata": {},
   "source": [
    "# Save Tweets to File"
   ]
  },
  {
   "cell_type": "code",
   "execution_count": 13,
   "metadata": {},
   "outputs": [],
   "source": [
    "def saveToFile(jsonObject):    \n",
    "    global file\n",
    "    global counter\n",
    "    global numTweets\n",
    "    global stream\n",
    "    \n",
    "    \n",
    "    if counter<numTweets:\n",
    "        if counter == 0:\n",
    "            data = jsonObject\n",
    "        else:\n",
    "            data =\"\\n\"+ str(jsonObject)\n",
    "        counter = counter +1   \n",
    "        file.write(data)\n",
    "    else:\n",
    "        file.close()\n",
    "        print(\"DONE!\")\n",
    "        stream.disconnect()"
   ]
  },
  {
   "cell_type": "markdown",
   "metadata": {},
   "source": [
    "# Get Tweet in Json Format"
   ]
  },
  {
   "cell_type": "code",
   "execution_count": 14,
   "metadata": {},
   "outputs": [],
   "source": [
    "def getJson(text, language_t, tweetdate, coordinates, hashtags, place, timestamp, user_id, user_name, user_descr, date, location, is_verified, followers_count, friends_count, reply_count, retweet_count, favorite_count, original_tweet, influencer, is_quote_status, quoted_status_id):\n",
    "        jsonObject = {}\n",
    "        \n",
    "        #info on the tweet\n",
    "        jsonObject[\"text\"] = text\n",
    "        jsonObject[\"tweet_lang\"] = language_t\n",
    "        jsonObject[\"tweet_date\"] = tweetdate\n",
    "        jsonObject[\"hashtags\"] = hashtags\n",
    "        jsonObject[\"coordinates\"]=coordinates\n",
    "        jsonObject[\"place\"] = place\n",
    "        jsonObject[\"timestamp\"] = timestamp\n",
    "        \n",
    "        #info on tweep\n",
    "        jsonObject[\"userId\"]=user_id\n",
    "        jsonObject[\"user_name\"]=user_name\n",
    "        jsonObject[\"user_descr\"]=user_descr\n",
    "        jsonObject[\"date\"] = date\n",
    "        jsonObject[\"location\"]=location\n",
    "        jsonObject[\"is_verified\"] = is_verified\n",
    "        jsonObject[\"followers_count\"]=followers_count\n",
    "        jsonObject[\"friends_count\"]=friends_count\n",
    "        \n",
    "        #Quantifying influence of tweet\n",
    "        jsonObject[\"reply_count\"] = reply_count\n",
    "        jsonObject[\"retweet_count\"] = retweet_count\n",
    "        jsonObject[\"favorite_count\"] = favorite_count\n",
    "        \n",
    "        #Trigger of tweet or what influenced the tweet\n",
    "        jsonObject[\"original_tweet\"] = original_tweet\n",
    "        jsonObject[\"influencer\"] = influencer\n",
    "        jsonObject[\"is_quote_status\"] = is_quote_status\n",
    "        jsonObject[\"quoted_status_id\"] = quoted_status_id\n",
    "        \n",
    "\n",
    "        return json.dumps(jsonObject,ensure_ascii=False)"
   ]
  },
  {
   "cell_type": "markdown",
   "metadata": {},
   "source": [
    "# Stream Tweets from Twitter API"
   ]
  },
  {
   "cell_type": "code",
   "execution_count": 22,
   "metadata": {},
   "outputs": [
    {
     "name": "stdout",
     "output_type": "stream",
     "text": [
      "420\n",
      "DONE!\n"
     ]
    }
   ],
   "source": [
    "#This handles Twitter authetification and the connection to Twitter Streaming API\n",
    "l = StdOutListener()\n",
    "auth = OAuthHandler(consumer_key, consumer_secret)\n",
    "auth.set_access_token(access_token, access_token_secret)\n",
    "stream = Stream(auth, l)\n",
    "\n",
    "#This line filter Twitter Streams to capture data by the keywords: 'Brexit'\n",
    "stream.filter(track=['Brexit'])"
   ]
  }
 ],
 "metadata": {
  "kernelspec": {
   "display_name": "Python 3",
   "language": "python",
   "name": "python3"
  },
  "language_info": {
   "codemirror_mode": {
    "name": "ipython",
    "version": 3
   },
   "file_extension": ".py",
   "mimetype": "text/x-python",
   "name": "python",
   "nbconvert_exporter": "python",
   "pygments_lexer": "ipython3",
   "version": "3.7.2"
  }
 },
 "nbformat": 4,
 "nbformat_minor": 2
}

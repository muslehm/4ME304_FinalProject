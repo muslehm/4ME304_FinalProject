{
 "cells": [
  {
   "cell_type": "markdown",
   "metadata": {},
   "source": [
    "# Data Analysis"
   ]
  },
  {
   "cell_type": "code",
   "execution_count": 1,
   "metadata": {},
   "outputs": [],
   "source": [
    "from __future__ import print_function\n",
    "from pyspark.sql.functions import count, countDistinct\n",
    "from pyspark.sql.functions import col\n",
    "from pyspark.sql.functions import explode, expr\n",
    "from pyspark.sql.functions import split\n",
    "from pyspark.sql.functions import udf\n",
    "from pyspark.sql import SparkSession\n",
    "import pandas as pd\n",
    "from pyspark.ml.linalg import Vectors\n",
    "from pyspark.ml.feature import VectorAssembler\n",
    "from pyspark.ml.clustering import KMeans\n",
    "from pyspark.ml.evaluation import ClusteringEvaluator\n",
    "from pyspark import SparkContext\n",
    "from pyspark.sql import SQLContext\n",
    "import os\n",
    "\n",
    "spark = SparkSession.builder.getOrCreate()\n"
   ]
  },
  {
   "cell_type": "code",
   "execution_count": 2,
   "metadata": {},
   "outputs": [],
   "source": [
    "#Load tweets as Dataframe to Spark\n",
    "tweetsDF = spark.read.json(\"file:///Users/Laith/Downloads/features_tweets.json\")\n",
    "\n",
    "#Print the schema/data structure in a tree format\n",
    "#tweetsDF.printSchema()"
   ]
  },
  {
   "cell_type": "code",
   "execution_count": 6,
   "metadata": {},
   "outputs": [
    {
     "data": {
      "text/plain": [
       "6636"
      ]
     },
     "execution_count": 6,
     "metadata": {},
     "output_type": "execute_result"
    }
   ],
   "source": [
    "#cleanTweetsDF = cleanTweetsDF.where(\"friends_count != 0\")\n",
    "#cleanTweetsDF = cleanTweetsDF.where(\"followers_count != 0\")\n",
    "#cleanTweetsDF = cleanTweetsDF.where(\"friends_count < 10000\")\n",
    "#cleanTweetsDF = cleanTweetsDF.where(\"friends_count > 20\")\n",
    "#cleanTweetsDF = cleanTweetsDF.where(\"followers_count < 400000\")\n",
    "#cleanTweetsDF = cleanTweetsDF.where(\"followers_count < 400000\")\n",
    "#cleanTweetsDF.count()"
   ]
  },
  {
   "cell_type": "code",
   "execution_count": 8,
   "metadata": {},
   "outputs": [
    {
     "name": "stdout",
     "output_type": "stream",
     "text": [
      "Assembled columns 'followers_count', 'friends_count' to vector column 'features'\n",
      "+---------------+-------------------+\n",
      "|       features|             userId|\n",
      "+---------------+-------------------+\n",
      "|[2387.0,4996.0]|          351883595|\n",
      "|  [326.0,403.0]| 744537718043086849|\n",
      "|[3613.0,2396.0]|          112500296|\n",
      "|[2221.0,4477.0]|1185604978964127756|\n",
      "| [493.0,2061.0]|           57025876|\n",
      "| [2832.0,785.0]|          106469050|\n",
      "|[1808.0,1341.0]|         3511592775|\n",
      "| [410.0,1106.0]| 773870985229590530|\n",
      "|[4207.0,1042.0]|           40071024|\n",
      "|[1203.0,2496.0]|          274021172|\n",
      "|[4432.0,2269.0]|          363867255|\n",
      "| [601.0,1444.0]|         2702818325|\n",
      "|  [222.0,164.0]|           19535313|\n",
      "|  [120.0,257.0]|          585658692|\n",
      "|[7131.0,1022.0]|         2542945434|\n",
      "|[1264.0,1393.0]|         1448731784|\n",
      "| [470.0,1506.0]|         2197417861|\n",
      "|  [668.0,251.0]| 752687748239200256|\n",
      "|   [76.0,290.0]| 880568786654568448|\n",
      "|  [595.0,458.0]|          835592406|\n",
      "+---------------+-------------------+\n",
      "only showing top 20 rows\n",
      "\n"
     ]
    }
   ],
   "source": [
    "assembler = VectorAssembler(\n",
    "    inputCols=[\"followers_count\", \"friends_count\"],\n",
    "    outputCol=\"features\")\n",
    "output = assembler.transform(tweetsDF)\n",
    "print(\"Assembled columns 'followers_count', 'friends_count' to vector column 'features'\")\n",
    "featuresData = output.select(\"features\", \"userId\")\n",
    "featuresData.show(20)"
   ]
  },
  {
   "cell_type": "code",
   "execution_count": 4,
   "metadata": {},
   "outputs": [],
   "source": [
    "#tweetsDF.count()"
   ]
  },
  {
   "cell_type": "markdown",
   "metadata": {},
   "source": [
    "# Clustering"
   ]
  },
  {
   "cell_type": "code",
   "execution_count": 9,
   "metadata": {},
   "outputs": [
    {
     "name": "stdout",
     "output_type": "stream",
     "text": [
      "Silhouette with squared euclidean distance = 0.9640725407085363\n",
      "Cluster Centers: \n",
      "[1585.13520954 1588.34184766]\n",
      "[82509.81578947 11693.47368421]\n",
      "[564248.   2572.]\n",
      "[200248.5   41712.25]\n",
      "[27632.26923077  9418.23076923]\n"
     ]
    }
   ],
   "source": [
    "#Visualize tweeps based on followers and friends count, and Location/UserId\n",
    "# Trains a k-means model.\n",
    "k = 5\n",
    "kmeans = KMeans().setK(k).setSeed(1)\n",
    "\n",
    "model = kmeans.fit(featuresData)\n",
    "\n",
    "#model2 = kmeans.fit(featuresL)\n",
    "\n",
    "# Make predictions\n",
    "predictions = model.transform(featuresData)\n",
    "#predictions2 = model.transform(featuresL)\n",
    "\n",
    "# Evaluate clustering by computing Silhouette score\n",
    "evaluator = ClusteringEvaluator()\n",
    "\n",
    "silhouette = evaluator.evaluate(predictions)\n",
    "print(\"Silhouette with squared euclidean distance = \" + str(silhouette))\n",
    "\n",
    "\n",
    "\n",
    "# Shows the result.\n",
    "centers = model.clusterCenters()\n",
    "print(\"Cluster Centers: \")\n",
    "for center in centers:\n",
    "    print(center)\n",
    "\n"
   ]
  },
  {
   "cell_type": "code",
   "execution_count": 6,
   "metadata": {},
   "outputs": [],
   "source": [
    "import matplotlib.pyplot as plt\n",
    "import seaborn as sns; sns.set()\n",
    "import numpy as np"
   ]
  },
  {
   "cell_type": "code",
   "execution_count": 10,
   "metadata": {},
   "outputs": [
    {
     "name": "stdout",
     "output_type": "stream",
     "text": [
      "root\n",
      " |-- features: vector (nullable = true)\n",
      " |-- userId: long (nullable = true)\n",
      "\n",
      "root\n",
      " |-- features: vector (nullable = true)\n",
      " |-- userId: long (nullable = true)\n",
      " |-- prediction: integer (nullable = false)\n",
      "\n"
     ]
    },
    {
     "data": {
      "text/plain": [
       "6737"
      ]
     },
     "execution_count": 10,
     "metadata": {},
     "output_type": "execute_result"
    }
   ],
   "source": [
    "featuresData.printSchema()\n",
    "featuresData.count()\n",
    "predictions.printSchema()\n",
    "predictions.count()"
   ]
  },
  {
   "cell_type": "code",
   "execution_count": 11,
   "metadata": {},
   "outputs": [
    {
     "name": "stdout",
     "output_type": "stream",
     "text": [
      "root\n",
      " |-- userId: long (nullable = true)\n",
      " |-- features: vector (nullable = true)\n",
      " |-- prediction: integer (nullable = false)\n",
      " |-- followers_count: long (nullable = true)\n",
      " |-- friends_count: long (nullable = true)\n",
      "\n",
      "+------------------+---------------+----------+---------------+-------------+\n",
      "|userId            |features       |prediction|followers_count|friends_count|\n",
      "+------------------+---------------+----------+---------------+-------------+\n",
      "|351883595         |[2387.0,4996.0]|0         |2387           |4996         |\n",
      "|744537718043086849|[326.0,403.0]  |0         |326            |403          |\n",
      "|112500296         |[3613.0,2396.0]|0         |3613           |2396         |\n",
      "|112500296         |[3613.0,2396.0]|0         |3613           |2396         |\n",
      "+------------------+---------------+----------+---------------+-------------+\n",
      "only showing top 4 rows\n",
      "\n"
     ]
    },
    {
     "data": {
      "text/plain": [
       "20199"
      ]
     },
     "execution_count": 11,
     "metadata": {},
     "output_type": "execute_result"
    }
   ],
   "source": [
    "#add to original data\n",
    "tweetsDF = tweetsDF.select(\"userId\", \"followers_count\", \"friends_count\")\n",
    "dfPred = predictions.join(tweetsDF, 'userId')\n",
    "dfPred.printSchema()\n",
    "dfPred.show(4, False)\n",
    "dfPred.count()\n",
    "\n",
    "#dfPred.groupBy('prediction').count().sort(col(\"count\").desc()).show()\n",
    "#predictions.printSchema()\n",
    "#predictions.show(4, False)\n",
    "#Select and convert to panda\n",
    "#pdDFpred = dfPred.select(\"userId\", \"location\", \"prediction\", \"followers_count\", \"friends_count\").toPandas().set_index('userId')\n",
    "#pdDFpred.count()"
   ]
  },
  {
   "cell_type": "code",
   "execution_count": null,
   "metadata": {},
   "outputs": [],
   "source": [
    "#visualize clusters of users\n",
    "fig, ax = plt.subplots()\n",
    "scatter = ax.scatter(dfPred.followers_count, dfPred.friends_count, c=dfPred.prediction, s=50)\n",
    "\n",
    "legend = ax.legend(*scatter.legend_elements(),\n",
    "                    loc=\"upper right\", title=\"Clusters\")\n",
    "ax.add_artist(legend)\n",
    "\n",
    "#Draw\n",
    "for center in centers:\n",
    "    ax.scatter(center[0], center[1], c='black', s=200, alpha=0.5)\n",
    "\n",
    "plt.title(\"Clustering Results\")\n",
    "plt.xlabel(\"Followers Count\")\n",
    "plt.ylabel(\"Friends Count\")\n",
    "\n",
    "plt.show()\n"
   ]
  },
  {
   "cell_type": "code",
   "execution_count": null,
   "metadata": {},
   "outputs": [],
   "source": [
    "\n",
    "\n"
   ]
  },
  {
   "cell_type": "code",
   "execution_count": null,
   "metadata": {},
   "outputs": [],
   "source": []
  }
 ],
 "metadata": {
  "kernelspec": {
   "display_name": "Python 3",
   "language": "python",
   "name": "python3"
  },
  "language_info": {
   "codemirror_mode": {
    "name": "ipython",
    "version": 3
   },
   "file_extension": ".py",
   "mimetype": "text/x-python",
   "name": "python",
   "nbconvert_exporter": "python",
   "pygments_lexer": "ipython3",
   "version": "3.7.2"
  }
 },
 "nbformat": 4,
 "nbformat_minor": 2
}
